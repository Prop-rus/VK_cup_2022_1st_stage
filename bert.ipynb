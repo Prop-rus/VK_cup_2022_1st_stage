{
 "cells": [
  {
   "cell_type": "code",
   "execution_count": 1,
   "id": "c14742cb-37a2-4a2e-9450-b635f30ae473",
   "metadata": {},
   "outputs": [
    {
     "name": "stderr",
     "output_type": "stream",
     "text": [
      "/home/prop/anaconda3/envs/torch/lib/python3.9/site-packages/scipy/__init__.py:146: UserWarning: A NumPy version >=1.16.5 and <1.23.0 is required for this version of SciPy (detected version 1.23.3\n",
      "  warnings.warn(f\"A NumPy version >={np_minversion} and <{np_maxversion}\"\n"
     ]
    }
   ],
   "source": [
    "import pandas as pd\n",
    "import torch\n",
    "import numpy as np\n",
    "from transformers import BertTokenizer, BertModel\n",
    "from torch import nn\n",
    "from torch.optim import Adam\n",
    "from tqdm import tqdm\n"
   ]
  },
  {
   "cell_type": "code",
   "execution_count": 2,
   "id": "0677bd94-d76e-486f-90e7-3d295414d475",
   "metadata": {},
   "outputs": [
    {
     "data": {
      "text/html": [
       "<div>\n",
       "<style scoped>\n",
       "    .dataframe tbody tr th:only-of-type {\n",
       "        vertical-align: middle;\n",
       "    }\n",
       "\n",
       "    .dataframe tbody tr th {\n",
       "        vertical-align: top;\n",
       "    }\n",
       "\n",
       "    .dataframe thead th {\n",
       "        text-align: right;\n",
       "    }\n",
       "</style>\n",
       "<table border=\"1\" class=\"dataframe\">\n",
       "  <thead>\n",
       "    <tr style=\"text-align: right;\">\n",
       "      <th></th>\n",
       "      <th>oid</th>\n",
       "      <th>category</th>\n",
       "      <th>text</th>\n",
       "    </tr>\n",
       "  </thead>\n",
       "  <tbody>\n",
       "    <tr>\n",
       "      <th>0</th>\n",
       "      <td>365271984</td>\n",
       "      <td>winter_sport</td>\n",
       "      <td>Волшебные фото Виктория Поплавская ЕвгенияМедв...</td>\n",
       "    </tr>\n",
       "    <tr>\n",
       "      <th>1</th>\n",
       "      <td>503385563</td>\n",
       "      <td>extreme</td>\n",
       "      <td>Возвращение в подземелье Треша 33 Эйфория тупо...</td>\n",
       "    </tr>\n",
       "    <tr>\n",
       "      <th>2</th>\n",
       "      <td>146016084</td>\n",
       "      <td>football</td>\n",
       "      <td>Лучшие чешские вратари – Доминик Доминатор Гаш...</td>\n",
       "    </tr>\n",
       "    <tr>\n",
       "      <th>3</th>\n",
       "      <td>933865449</td>\n",
       "      <td>boardgames</td>\n",
       "      <td>Rtokenoid Warhammer40k валрак решил нас подкор...</td>\n",
       "    </tr>\n",
       "    <tr>\n",
       "      <th>4</th>\n",
       "      <td>713550145</td>\n",
       "      <td>hockey</td>\n",
       "      <td>Шестеркин затаскивает Рейнджерс в финал Восточ...</td>\n",
       "    </tr>\n",
       "  </tbody>\n",
       "</table>\n",
       "</div>"
      ],
      "text/plain": [
       "         oid      category                                               text\n",
       "0  365271984  winter_sport  Волшебные фото Виктория Поплавская ЕвгенияМедв...\n",
       "1  503385563       extreme  Возвращение в подземелье Треша 33 Эйфория тупо...\n",
       "2  146016084      football  Лучшие чешские вратари – Доминик Доминатор Гаш...\n",
       "3  933865449    boardgames  Rtokenoid Warhammer40k валрак решил нас подкор...\n",
       "4  713550145        hockey  Шестеркин затаскивает Рейнджерс в финал Восточ..."
      ]
     },
     "execution_count": 2,
     "metadata": {},
     "output_type": "execute_result"
    }
   ],
   "source": [
    "datapath = f'train.csv'\n",
    "df = pd.read_csv(datapath)\n",
    "df.head()"
   ]
  },
  {
   "cell_type": "code",
   "execution_count": 9,
   "id": "b6955c2e-be8b-443d-8db2-2c7256d6730c",
   "metadata": {},
   "outputs": [],
   "source": [
    "tokenizer = BertTokenizer.from_pretrained('DeepPavlov/rubert-base-cased')"
   ]
  },
  {
   "cell_type": "code",
   "execution_count": 10,
   "id": "0e5c6795-811b-4652-bffe-a25148109fcd",
   "metadata": {},
   "outputs": [],
   "source": [
    "labels = dict(zip(df.category.unique(), list(range(len(df.category.unique())))))"
   ]
  },
  {
   "cell_type": "code",
   "execution_count": 11,
   "id": "43b4945c-84f9-405c-9ed3-f9fc83aa7fed",
   "metadata": {},
   "outputs": [
    {
     "data": {
      "text/plain": [
       "{'winter_sport': 0,\n",
       " 'extreme': 1,\n",
       " 'football': 2,\n",
       " 'boardgames': 3,\n",
       " 'hockey': 4,\n",
       " 'esport': 5,\n",
       " 'athletics': 6,\n",
       " 'motosport': 7,\n",
       " 'basketball': 8,\n",
       " 'tennis': 9,\n",
       " 'autosport': 10,\n",
       " 'martial_arts': 11,\n",
       " 'volleyball': 12}"
      ]
     },
     "execution_count": 11,
     "metadata": {},
     "output_type": "execute_result"
    }
   ],
   "source": [
    "labels"
   ]
  },
  {
   "cell_type": "code",
   "execution_count": 12,
   "id": "9365a24f-06a7-4995-b1ab-2f2c18f5f449",
   "metadata": {},
   "outputs": [],
   "source": [
    "class Dataset(torch.utils.data.Dataset):\n",
    "\n",
    "    def __init__(self, df):\n",
    "\n",
    "        self.labels = [labels[label] for label in df['category']]\n",
    "        self.texts = [tokenizer(text, \n",
    "                               padding='max_length', max_length = 512, truncation=True,\n",
    "                                return_tensors=\"pt\") for text in df['text']]\n",
    "\n",
    "    def classes(self):\n",
    "        return self.labels\n",
    "\n",
    "    def __len__(self):\n",
    "        return len(self.labels)\n",
    "\n",
    "    def get_batch_labels(self, idx):\n",
    "        # Fetch a batch of labels\n",
    "        return np.array(self.labels[idx])\n",
    "\n",
    "    def get_batch_texts(self, idx):\n",
    "        # Fetch a batch of inputs\n",
    "        return self.texts[idx]\n",
    "\n",
    "    def __getitem__(self, idx):\n",
    "\n",
    "        batch_texts = self.get_batch_texts(idx)\n",
    "        batch_y = self.get_batch_labels(idx)\n",
    "\n",
    "        return batch_texts, batch_y\n"
   ]
  },
  {
   "cell_type": "code",
   "execution_count": 13,
   "id": "f63f3ace-a403-4f0e-8e3a-4fb1bf6c3417",
   "metadata": {},
   "outputs": [],
   "source": [
    "class TestDataset(torch.utils.data.Dataset):\n",
    "\n",
    "    def __init__(self, df):\n",
    "\n",
    "        self.oids = df['oid'].tolist()\n",
    "        self.texts = [tokenizer(text, \n",
    "                               padding='max_length', max_length = 512, truncation=True,\n",
    "                                return_tensors=\"pt\") for text in df['text']]\n",
    "\n",
    "\n",
    "    def __len__(self):\n",
    "        return len(self.labels)\n",
    "\n",
    "    def get_batch_oids(self, idx):\n",
    "        # Fetch a batch of labels\n",
    "        return np.array(self.oids[idx])\n",
    "\n",
    "    def get_batch_texts(self, idx):\n",
    "        # Fetch a batch of inputs\n",
    "        return self.texts[idx]\n",
    "\n",
    "    def __getitem__(self, idx):\n",
    "\n",
    "        batch_texts = self.get_batch_texts(idx)\n",
    "        batch_oids = self.get_batch_oids(idx)\n",
    "\n",
    "        return batch_oids, batch_texts\n"
   ]
  },
  {
   "cell_type": "code",
   "execution_count": 14,
   "id": "fbd68a7c-b463-4005-88a7-dddbefb1e0d7",
   "metadata": {},
   "outputs": [],
   "source": [
    "class BertClassifier(nn.Module):\n",
    "\n",
    "    def __init__(self, dropout=0.5):\n",
    "\n",
    "        super(BertClassifier, self).__init__()\n",
    "\n",
    "        self.bert = BertModel.from_pretrained('DeepPavlov/rubert-base-cased')\n",
    "        self.dropout = nn.Dropout(dropout)\n",
    "        self.linear = nn.Linear(768, 13)\n",
    "        self.sigmoid = nn.Sigmoid()\n",
    "\n",
    "    def forward(self, input_id, mask):\n",
    "\n",
    "        _, pooled_output = self.bert(input_ids= input_id, attention_mask=mask,return_dict=False)\n",
    "        dropout_output = self.dropout(pooled_output)\n",
    "        linear_output = self.linear(dropout_output)\n",
    "        final_layer = self.sigmoid(linear_output)\n",
    "\n",
    "        return final_layer\n",
    "\n",
    "\n",
    "     "
   ]
  },
  {
   "cell_type": "code",
   "execution_count": 15,
   "id": "925d8bc8-f158-4763-9b16-44748ca8d9cc",
   "metadata": {},
   "outputs": [],
   "source": [
    "def train(model, train_data, val_data, learning_rate, epochs):\n",
    "\n",
    "    train, val = Dataset(train_data), Dataset(val_data)\n",
    "\n",
    "    train_dataloader = torch.utils.data.DataLoader(train, batch_size=2, shuffle=True)\n",
    "    val_dataloader = torch.utils.data.DataLoader(val, batch_size=2)\n",
    "\n",
    "    use_cuda = torch.cuda.is_available()\n",
    "    # use_cuda=False\n",
    "    device = torch.device(\"cuda\" if use_cuda else \"cpu\")\n",
    "    print('device', device)\n",
    "\n",
    "    criterion = nn.CrossEntropyLoss()\n",
    "    optimizer = Adam(model.parameters(), lr= learning_rate)\n",
    "\n",
    "    if use_cuda:\n",
    "\n",
    "            model = model.cuda()\n",
    "            criterion = criterion.cuda()\n",
    "\n",
    "    for epoch_num in range(epochs):\n",
    "\n",
    "            total_acc_train = 0\n",
    "            total_loss_train = 0\n",
    "\n",
    "            for train_input, train_label in tqdm(train_dataloader):\n",
    "\n",
    "                train_label = train_label.to(device)\n",
    "                mask = train_input['attention_mask'].to(device)\n",
    "                input_id = train_input['input_ids'].squeeze(1).to(device)\n",
    "\n",
    "                output = model(input_id, mask)\n",
    "                \n",
    "                batch_loss = criterion(output, train_label.long())\n",
    "                total_loss_train += batch_loss.item()\n",
    "                \n",
    "                acc = (output.argmax(dim=1) == train_label).sum().item()\n",
    "                total_acc_train += acc\n",
    "\n",
    "                model.zero_grad()\n",
    "                batch_loss.backward()\n",
    "                optimizer.step()\n",
    "            \n",
    "            total_acc_val = 0\n",
    "            total_loss_val = 0\n",
    "\n",
    "            with torch.no_grad():\n",
    "\n",
    "                for val_input, val_label in val_dataloader:\n",
    "\n",
    "                    val_label = val_label.to(device)\n",
    "                    mask = val_input['attention_mask'].to(device)\n",
    "                    input_id = val_input['input_ids'].squeeze(1).to(device)\n",
    "\n",
    "                    output = model(input_id, mask)\n",
    "\n",
    "                    batch_loss = criterion(output, val_label.long())\n",
    "                    total_loss_val += batch_loss.item()\n",
    "                    \n",
    "                    acc = (output.argmax(dim=1) == val_label).sum().item()\n",
    "                    total_acc_val += acc\n",
    "            \n",
    "            print(\n",
    "                f'Epochs: {epoch_num + 1} | Train Loss: {total_loss_train / len(train_data): .3f} | Train Accuracy: {total_acc_train / len(train_data): .3f} | Val Loss: {total_loss_val / len(val_data): .3f} | Val Accuracy: {total_acc_val / len(val_data): .3f}')\n",
    "                  "
   ]
  },
  {
   "cell_type": "code",
   "execution_count": 16,
   "id": "1d9d44e7-d7f5-4302-906d-7e23c451cf8d",
   "metadata": {},
   "outputs": [],
   "source": [
    "def evaluate(model, test_data):\n",
    "\n",
    "    test = Dataset(test_data)\n",
    "\n",
    "    test_dataloader = torch.utils.data.DataLoader(test, batch_size=2)\n",
    "\n",
    "    use_cuda = torch.cuda.is_available()\n",
    "    device = torch.device(\"cuda\" if use_cuda else \"cpu\")\n",
    "\n",
    "    if use_cuda:\n",
    "\n",
    "        model = model.cuda()\n",
    "\n",
    "    total_acc_test = 0\n",
    "    with torch.no_grad():\n",
    "\n",
    "        for test_input, test_label in test_dataloader:\n",
    "\n",
    "              test_label = test_label.to(device)\n",
    "              mask = test_input['attention_mask'].to(device)\n",
    "              input_id = test_input['input_ids'].squeeze(1).to(device)\n",
    "\n",
    "              output = model(input_id, mask)\n",
    "\n",
    "              acc = (output.argmax(dim=1) == test_label).sum().item()\n",
    "              total_acc_test += acc\n",
    "    \n",
    "    print(f'Test Accuracy: {total_acc_test / len(test_data): .3f}')"
   ]
  },
  {
   "cell_type": "code",
   "execution_count": 17,
   "id": "c587540c-9b0f-4115-945f-5c217f6eab8c",
   "metadata": {},
   "outputs": [],
   "source": [
    "def test(model, test_data):\n",
    "\n",
    "    test = TestDataset(test_data)\n",
    "\n",
    "    # test_dataloader = torch.utils.data.DataLoader(test, batch_size=2)\n",
    "\n",
    "    use_cuda = torch.cuda.is_available()\n",
    "    device = torch.device(\"cuda\" if use_cuda else \"cpu\")\n",
    "\n",
    "    if use_cuda:\n",
    "\n",
    "        model = model.cuda()\n",
    "    \n",
    "    result = []\n",
    "    with torch.no_grad():\n",
    "\n",
    "        for test_oid, test_input in test:\n",
    "\n",
    "            test_oid = torch.from_numpy(test_oid).to(device)\n",
    "            mask = test_input['attention_mask'].to(device)\n",
    "            input_id = test_input['input_ids'].squeeze(1).to(device)\n",
    "\n",
    "            output = model(input_id, mask)\n",
    "\n",
    "            pred = output.argmax(dim=1).cpu().detach().numpy()\n",
    "            max_val = output.max().item()\n",
    "            result.append([test_oid.item(), pred[0], max_val])\n",
    "    \n",
    "    return result"
   ]
  },
  {
   "cell_type": "code",
   "execution_count": 19,
   "id": "112d6c20-e628-4b67-89a2-f7bebaa03ad7",
   "metadata": {},
   "outputs": [
    {
     "name": "stdout",
     "output_type": "stream",
     "text": [
      "46705 2459\n"
     ]
    }
   ],
   "source": [
    "np.random.seed(112)\n",
    "df_train, df_val = np.split(df.sample(frac=1, random_state=112), \n",
    "                                     [int(.95*len(df))])\n",
    "\n",
    "print(len(df_train),len(df_val))"
   ]
  },
  {
   "cell_type": "code",
   "execution_count": 20,
   "id": "c115dae2-c330-4d4e-888f-0e60c443e80d",
   "metadata": {},
   "outputs": [
    {
     "name": "stderr",
     "output_type": "stream",
     "text": [
      "Some weights of the model checkpoint at DeepPavlov/rubert-base-cased were not used when initializing BertModel: ['cls.predictions.transform.LayerNorm.bias', 'cls.predictions.transform.LayerNorm.weight', 'cls.seq_relationship.weight', 'cls.predictions.transform.dense.bias', 'cls.predictions.decoder.bias', 'cls.predictions.bias', 'cls.predictions.decoder.weight', 'cls.predictions.transform.dense.weight', 'cls.seq_relationship.bias']\n",
      "- This IS expected if you are initializing BertModel from the checkpoint of a model trained on another task or with another architecture (e.g. initializing a BertForSequenceClassification model from a BertForPreTraining model).\n",
      "- This IS NOT expected if you are initializing BertModel from the checkpoint of a model that you expect to be exactly identical (initializing a BertForSequenceClassification model from a BertForSequenceClassification model).\n"
     ]
    },
    {
     "name": "stdout",
     "output_type": "stream",
     "text": [
      "device cuda\n"
     ]
    },
    {
     "name": "stderr",
     "output_type": "stream",
     "text": [
      "100%|██████████| 23353/23353 [48:33<00:00,  8.01it/s]\n"
     ]
    },
    {
     "name": "stdout",
     "output_type": "stream",
     "text": [
      "Epochs: 1 | Train Loss:  1.052 | Train Accuracy:  0.698 | Val Loss:  0.955 | Val Accuracy:  0.840\n"
     ]
    },
    {
     "name": "stderr",
     "output_type": "stream",
     "text": [
      "100%|██████████| 23353/23353 [48:23<00:00,  8.04it/s]\n"
     ]
    },
    {
     "name": "stdout",
     "output_type": "stream",
     "text": [
      "Epochs: 2 | Train Loss:  0.924 | Train Accuracy:  0.879 | Val Loss:  0.909 | Val Accuracy:  0.893\n"
     ]
    },
    {
     "name": "stderr",
     "output_type": "stream",
     "text": [
      "100%|██████████| 23353/23353 [48:24<00:00,  8.04it/s]\n"
     ]
    },
    {
     "name": "stdout",
     "output_type": "stream",
     "text": [
      "Epochs: 3 | Train Loss:  0.891 | Train Accuracy:  0.922 | Val Loss:  0.896 | Val Accuracy:  0.904\n"
     ]
    },
    {
     "name": "stderr",
     "output_type": "stream",
     "text": [
      "100%|██████████| 23353/23353 [48:25<00:00,  8.04it/s]\n"
     ]
    },
    {
     "name": "stdout",
     "output_type": "stream",
     "text": [
      "Epochs: 4 | Train Loss:  0.876 | Train Accuracy:  0.946 | Val Loss:  0.892 | Val Accuracy:  0.903\n"
     ]
    },
    {
     "name": "stderr",
     "output_type": "stream",
     "text": [
      "100%|██████████| 23353/23353 [48:26<00:00,  8.04it/s]\n"
     ]
    },
    {
     "name": "stdout",
     "output_type": "stream",
     "text": [
      "Epochs: 5 | Train Loss:  0.867 | Train Accuracy:  0.960 | Val Loss:  0.890 | Val Accuracy:  0.903\n"
     ]
    },
    {
     "name": "stderr",
     "output_type": "stream",
     "text": [
      "100%|██████████| 23353/23353 [48:28<00:00,  8.03it/s]\n"
     ]
    },
    {
     "name": "stdout",
     "output_type": "stream",
     "text": [
      "Epochs: 6 | Train Loss:  0.863 | Train Accuracy:  0.967 | Val Loss:  0.888 | Val Accuracy:  0.908\n"
     ]
    },
    {
     "name": "stderr",
     "output_type": "stream",
     "text": [
      "100%|██████████| 23353/23353 [48:30<00:00,  8.02it/s]\n"
     ]
    },
    {
     "name": "stdout",
     "output_type": "stream",
     "text": [
      "Epochs: 7 | Train Loss:  0.860 | Train Accuracy:  0.971 | Val Loss:  0.889 | Val Accuracy:  0.908\n"
     ]
    }
   ],
   "source": [
    "EPOCHS = 7\n",
    "model = BertClassifier()\n",
    "LR = 1e-6\n",
    "              \n",
    "train(model, df_train, df_val, LR, EPOCHS)\n"
   ]
  },
  {
   "cell_type": "code",
   "execution_count": 17,
   "id": "05fff211-eb89-42e7-85ed-d56a684eb59e",
   "metadata": {},
   "outputs": [],
   "source": [
    "torch.save(model.state_dict(), './save/5ep.pt')"
   ]
  },
  {
   "cell_type": "code",
   "execution_count": 14,
   "id": "9a6e7d1c-7458-451f-ba7d-9447783e4986",
   "metadata": {},
   "outputs": [
    {
     "data": {
      "text/plain": [
       "<All keys matched successfully>"
      ]
     },
     "execution_count": 14,
     "metadata": {},
     "output_type": "execute_result"
    }
   ],
   "source": [
    "# model.load_state_dict(torch.load('./save/5ep.pt'))"
   ]
  },
  {
   "cell_type": "markdown",
   "id": "6c2e9358-505e-4848-aa5c-468c6f299010",
   "metadata": {},
   "source": [
    "## Predict"
   ]
  },
  {
   "cell_type": "code",
   "execution_count": 21,
   "id": "f98124d6-acee-4ab2-a76a-4921d7e67cc2",
   "metadata": {},
   "outputs": [
    {
     "data": {
      "text/html": [
       "<div>\n",
       "<style scoped>\n",
       "    .dataframe tbody tr th:only-of-type {\n",
       "        vertical-align: middle;\n",
       "    }\n",
       "\n",
       "    .dataframe tbody tr th {\n",
       "        vertical-align: top;\n",
       "    }\n",
       "\n",
       "    .dataframe thead th {\n",
       "        text-align: right;\n",
       "    }\n",
       "</style>\n",
       "<table border=\"1\" class=\"dataframe\">\n",
       "  <thead>\n",
       "    <tr style=\"text-align: right;\">\n",
       "      <th></th>\n",
       "      <th>oid</th>\n",
       "      <th>text</th>\n",
       "    </tr>\n",
       "  </thead>\n",
       "  <tbody>\n",
       "    <tr>\n",
       "      <th>0</th>\n",
       "      <td>749208109</td>\n",
       "      <td>СПОЧНО СООБЩЕСТВО ПРОДАЕТСЯ ЗА 1300Р ЗА ПОКУПК...</td>\n",
       "    </tr>\n",
       "    <tr>\n",
       "      <th>1</th>\n",
       "      <td>452466036</td>\n",
       "      <td>Естественное восстановление после тяжелой трен...</td>\n",
       "    </tr>\n",
       "    <tr>\n",
       "      <th>2</th>\n",
       "      <td>161038103</td>\n",
       "      <td>Тема нарядов продолжается Одна из британских ж...</td>\n",
       "    </tr>\n",
       "    <tr>\n",
       "      <th>3</th>\n",
       "      <td>663621910</td>\n",
       "      <td>Привет Избранный. Ты спрашиваешь себя ЧТО здес...</td>\n",
       "    </tr>\n",
       "    <tr>\n",
       "      <th>4</th>\n",
       "      <td>566255305</td>\n",
       "      <td>КОРОЛЬ ПЯТИСОТНИКОВ В ДЕЛЕ Андрей Рублев успеш...</td>\n",
       "    </tr>\n",
       "    <tr>\n",
       "      <th>...</th>\n",
       "      <td>...</td>\n",
       "      <td>...</td>\n",
       "    </tr>\n",
       "    <tr>\n",
       "      <th>26255</th>\n",
       "      <td>169728316</td>\n",
       "      <td>Выиграй коллекционный пазл по Wortokenoid of W...</td>\n",
       "    </tr>\n",
       "    <tr>\n",
       "      <th>26256</th>\n",
       "      <td>279369911</td>\n",
       "      <td>Волейбол от первого лица Егора Пупынина переко...</td>\n",
       "    </tr>\n",
       "    <tr>\n",
       "      <th>26257</th>\n",
       "      <td>600699419</td>\n",
       "      <td>Вы были когда нибудь на свидании где вам задав...</td>\n",
       "    </tr>\n",
       "    <tr>\n",
       "      <th>26258</th>\n",
       "      <td>560223506</td>\n",
       "      <td>ТОП 20 самых эффективных общефизических упражн...</td>\n",
       "    </tr>\n",
       "    <tr>\n",
       "      <th>26259</th>\n",
       "      <td>724673712</td>\n",
       "      <td>Присылайте ваши беговые фото в комментарии к э...</td>\n",
       "    </tr>\n",
       "  </tbody>\n",
       "</table>\n",
       "<p>26260 rows × 2 columns</p>\n",
       "</div>"
      ],
      "text/plain": [
       "             oid                                               text\n",
       "0      749208109  СПОЧНО СООБЩЕСТВО ПРОДАЕТСЯ ЗА 1300Р ЗА ПОКУПК...\n",
       "1      452466036  Естественное восстановление после тяжелой трен...\n",
       "2      161038103  Тема нарядов продолжается Одна из британских ж...\n",
       "3      663621910  Привет Избранный. Ты спрашиваешь себя ЧТО здес...\n",
       "4      566255305  КОРОЛЬ ПЯТИСОТНИКОВ В ДЕЛЕ Андрей Рублев успеш...\n",
       "...          ...                                                ...\n",
       "26255  169728316  Выиграй коллекционный пазл по Wortokenoid of W...\n",
       "26256  279369911  Волейбол от первого лица Егора Пупынина переко...\n",
       "26257  600699419  Вы были когда нибудь на свидании где вам задав...\n",
       "26258  560223506  ТОП 20 самых эффективных общефизических упражн...\n",
       "26259  724673712  Присылайте ваши беговые фото в комментарии к э...\n",
       "\n",
       "[26260 rows x 2 columns]"
      ]
     },
     "execution_count": 21,
     "metadata": {},
     "output_type": "execute_result"
    }
   ],
   "source": [
    "df_test = pd.read_csv('test.csv')\n",
    "df_test"
   ]
  },
  {
   "cell_type": "code",
   "execution_count": null,
   "id": "662d0a8b-c370-453d-b33f-f2d2523a597b",
   "metadata": {
    "tags": []
   },
   "outputs": [],
   "source": [
    "pred = test(model, df_test)\n"
   ]
  },
  {
   "cell_type": "code",
   "execution_count": 23,
   "id": "832ffae4-2660-4dd4-94cd-87c198b24d9b",
   "metadata": {},
   "outputs": [
    {
     "data": {
      "text/html": [
       "<div>\n",
       "<style scoped>\n",
       "    .dataframe tbody tr th:only-of-type {\n",
       "        vertical-align: middle;\n",
       "    }\n",
       "\n",
       "    .dataframe tbody tr th {\n",
       "        vertical-align: top;\n",
       "    }\n",
       "\n",
       "    .dataframe thead th {\n",
       "        text-align: right;\n",
       "    }\n",
       "</style>\n",
       "<table border=\"1\" class=\"dataframe\">\n",
       "  <thead>\n",
       "    <tr style=\"text-align: right;\">\n",
       "      <th></th>\n",
       "      <th>oid</th>\n",
       "      <th>category</th>\n",
       "      <th>prob</th>\n",
       "    </tr>\n",
       "  </thead>\n",
       "  <tbody>\n",
       "    <tr>\n",
       "      <th>0</th>\n",
       "      <td>749208109</td>\n",
       "      <td>5</td>\n",
       "      <td>0.997216</td>\n",
       "    </tr>\n",
       "    <tr>\n",
       "      <th>1</th>\n",
       "      <td>452466036</td>\n",
       "      <td>11</td>\n",
       "      <td>0.999206</td>\n",
       "    </tr>\n",
       "    <tr>\n",
       "      <th>2</th>\n",
       "      <td>161038103</td>\n",
       "      <td>9</td>\n",
       "      <td>0.999839</td>\n",
       "    </tr>\n",
       "    <tr>\n",
       "      <th>3</th>\n",
       "      <td>663621910</td>\n",
       "      <td>5</td>\n",
       "      <td>0.998995</td>\n",
       "    </tr>\n",
       "    <tr>\n",
       "      <th>4</th>\n",
       "      <td>566255305</td>\n",
       "      <td>9</td>\n",
       "      <td>0.999485</td>\n",
       "    </tr>\n",
       "    <tr>\n",
       "      <th>...</th>\n",
       "      <td>...</td>\n",
       "      <td>...</td>\n",
       "      <td>...</td>\n",
       "    </tr>\n",
       "    <tr>\n",
       "      <th>26255</th>\n",
       "      <td>169728316</td>\n",
       "      <td>3</td>\n",
       "      <td>0.998454</td>\n",
       "    </tr>\n",
       "    <tr>\n",
       "      <th>26256</th>\n",
       "      <td>279369911</td>\n",
       "      <td>12</td>\n",
       "      <td>0.999675</td>\n",
       "    </tr>\n",
       "    <tr>\n",
       "      <th>26257</th>\n",
       "      <td>600699419</td>\n",
       "      <td>3</td>\n",
       "      <td>0.999604</td>\n",
       "    </tr>\n",
       "    <tr>\n",
       "      <th>26258</th>\n",
       "      <td>560223506</td>\n",
       "      <td>12</td>\n",
       "      <td>0.997792</td>\n",
       "    </tr>\n",
       "    <tr>\n",
       "      <th>26259</th>\n",
       "      <td>724673712</td>\n",
       "      <td>6</td>\n",
       "      <td>0.999533</td>\n",
       "    </tr>\n",
       "  </tbody>\n",
       "</table>\n",
       "<p>26260 rows × 3 columns</p>\n",
       "</div>"
      ],
      "text/plain": [
       "             oid  category      prob\n",
       "0      749208109         5  0.997216\n",
       "1      452466036        11  0.999206\n",
       "2      161038103         9  0.999839\n",
       "3      663621910         5  0.998995\n",
       "4      566255305         9  0.999485\n",
       "...          ...       ...       ...\n",
       "26255  169728316         3  0.998454\n",
       "26256  279369911        12  0.999675\n",
       "26257  600699419         3  0.999604\n",
       "26258  560223506        12  0.997792\n",
       "26259  724673712         6  0.999533\n",
       "\n",
       "[26260 rows x 3 columns]"
      ]
     },
     "execution_count": 23,
     "metadata": {},
     "output_type": "execute_result"
    }
   ],
   "source": [
    "pred = pd.DataFrame(pred, columns=['oid','category', 'prob'])\n",
    "pred"
   ]
  },
  {
   "cell_type": "code",
   "execution_count": 24,
   "id": "061b7f0d-09ba-4fc4-91d2-a1a42f8b9f87",
   "metadata": {},
   "outputs": [
    {
     "data": {
      "text/plain": [
       "{0: 'winter_sport',\n",
       " 1: 'extreme',\n",
       " 2: 'football',\n",
       " 3: 'boardgames',\n",
       " 4: 'hockey',\n",
       " 5: 'esport',\n",
       " 6: 'athletics',\n",
       " 7: 'motosport',\n",
       " 8: 'basketball',\n",
       " 9: 'tennis',\n",
       " 10: 'autosport',\n",
       " 11: 'martial_arts',\n",
       " 12: 'volleyball'}"
      ]
     },
     "execution_count": 24,
     "metadata": {},
     "output_type": "execute_result"
    }
   ],
   "source": [
    "labels_inv = {v: k for k, v in labels.items()}\n",
    "labels_inv"
   ]
  },
  {
   "cell_type": "code",
   "execution_count": 25,
   "id": "8e5d36eb-cf98-42db-8220-95335f127467",
   "metadata": {},
   "outputs": [
    {
     "data": {
      "text/html": [
       "<div>\n",
       "<style scoped>\n",
       "    .dataframe tbody tr th:only-of-type {\n",
       "        vertical-align: middle;\n",
       "    }\n",
       "\n",
       "    .dataframe tbody tr th {\n",
       "        vertical-align: top;\n",
       "    }\n",
       "\n",
       "    .dataframe thead th {\n",
       "        text-align: right;\n",
       "    }\n",
       "</style>\n",
       "<table border=\"1\" class=\"dataframe\">\n",
       "  <thead>\n",
       "    <tr style=\"text-align: right;\">\n",
       "      <th></th>\n",
       "      <th>oid</th>\n",
       "      <th>category</th>\n",
       "      <th>prob</th>\n",
       "    </tr>\n",
       "  </thead>\n",
       "  <tbody>\n",
       "    <tr>\n",
       "      <th>0</th>\n",
       "      <td>749208109</td>\n",
       "      <td>esport</td>\n",
       "      <td>0.997216</td>\n",
       "    </tr>\n",
       "    <tr>\n",
       "      <th>1</th>\n",
       "      <td>452466036</td>\n",
       "      <td>martial_arts</td>\n",
       "      <td>0.999206</td>\n",
       "    </tr>\n",
       "    <tr>\n",
       "      <th>2</th>\n",
       "      <td>161038103</td>\n",
       "      <td>tennis</td>\n",
       "      <td>0.999839</td>\n",
       "    </tr>\n",
       "    <tr>\n",
       "      <th>3</th>\n",
       "      <td>663621910</td>\n",
       "      <td>esport</td>\n",
       "      <td>0.998995</td>\n",
       "    </tr>\n",
       "    <tr>\n",
       "      <th>4</th>\n",
       "      <td>566255305</td>\n",
       "      <td>tennis</td>\n",
       "      <td>0.999485</td>\n",
       "    </tr>\n",
       "    <tr>\n",
       "      <th>...</th>\n",
       "      <td>...</td>\n",
       "      <td>...</td>\n",
       "      <td>...</td>\n",
       "    </tr>\n",
       "    <tr>\n",
       "      <th>26255</th>\n",
       "      <td>169728316</td>\n",
       "      <td>boardgames</td>\n",
       "      <td>0.998454</td>\n",
       "    </tr>\n",
       "    <tr>\n",
       "      <th>26256</th>\n",
       "      <td>279369911</td>\n",
       "      <td>volleyball</td>\n",
       "      <td>0.999675</td>\n",
       "    </tr>\n",
       "    <tr>\n",
       "      <th>26257</th>\n",
       "      <td>600699419</td>\n",
       "      <td>boardgames</td>\n",
       "      <td>0.999604</td>\n",
       "    </tr>\n",
       "    <tr>\n",
       "      <th>26258</th>\n",
       "      <td>560223506</td>\n",
       "      <td>volleyball</td>\n",
       "      <td>0.997792</td>\n",
       "    </tr>\n",
       "    <tr>\n",
       "      <th>26259</th>\n",
       "      <td>724673712</td>\n",
       "      <td>athletics</td>\n",
       "      <td>0.999533</td>\n",
       "    </tr>\n",
       "  </tbody>\n",
       "</table>\n",
       "<p>26260 rows × 3 columns</p>\n",
       "</div>"
      ],
      "text/plain": [
       "             oid      category      prob\n",
       "0      749208109        esport  0.997216\n",
       "1      452466036  martial_arts  0.999206\n",
       "2      161038103        tennis  0.999839\n",
       "3      663621910        esport  0.998995\n",
       "4      566255305        tennis  0.999485\n",
       "...          ...           ...       ...\n",
       "26255  169728316    boardgames  0.998454\n",
       "26256  279369911    volleyball  0.999675\n",
       "26257  600699419    boardgames  0.999604\n",
       "26258  560223506    volleyball  0.997792\n",
       "26259  724673712     athletics  0.999533\n",
       "\n",
       "[26260 rows x 3 columns]"
      ]
     },
     "execution_count": 25,
     "metadata": {},
     "output_type": "execute_result"
    }
   ],
   "source": [
    "pred['category'] = pred['category'].map(labels_inv.get)\n",
    "pred"
   ]
  },
  {
   "cell_type": "code",
   "execution_count": 26,
   "id": "5353f4b8-4123-4cc4-92b8-4c56cd9dfbd6",
   "metadata": {},
   "outputs": [],
   "source": [
    "pred.to_csv('./output/bert_output.csv')"
   ]
  }
 ],
 "metadata": {
  "kernelspec": {
   "display_name": "Python (torch)",
   "language": "python",
   "name": "torch"
  },
  "language_info": {
   "codemirror_mode": {
    "name": "ipython",
    "version": 3
   },
   "file_extension": ".py",
   "mimetype": "text/x-python",
   "name": "python",
   "nbconvert_exporter": "python",
   "pygments_lexer": "ipython3",
   "version": "3.9.12"
  }
 },
 "nbformat": 4,
 "nbformat_minor": 5
}
